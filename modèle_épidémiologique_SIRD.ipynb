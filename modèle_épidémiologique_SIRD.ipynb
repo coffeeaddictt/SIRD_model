{
 "cells": [
  {
   "cell_type": "markdown",
   "metadata": {},
   "source": [
    "## Étape 1 : Implémentation de la méthode d'Euler"
   ]
  },
  {
   "cell_type": "code",
   "execution_count": 43,
   "metadata": {},
   "outputs": [],
   "source": [
    "import matplotlib.pyplot as plt\n",
    "import pandas as pd\n",
    "import numpy as np\n",
    "\n",
    "def euler_sird(beta, gamma, mu, S0, I0, R0, D0, step, days):\n",
    "    #number of steps\n",
    "    steps = int(days / step)\n",
    "    S, I, R, D = [S0], [I0], [R0], [D0]\n",
    "    t = [0]\n",
    "    \n",
    "    for i in range(steps):\n",
    "        dS = -beta * S[-1] * I[-1] * step\n",
    "        dI = (beta * S[-1] * I[-1] - gamma * I[-1] - mu * I[-1]) * step\n",
    "        dR = gamma * I[-1] * step\n",
    "        dD = mu * I[-1] * step\n",
    "\n",
    "        S.append(S[-1] + dS)\n",
    "        I.append(I[-1] + dI)\n",
    "        R.append(R[-1] + dR)\n",
    "        D.append(D[-1] + dD)\n",
    "        t.append(t[-1] + step)\n",
    "    \n",
    "    return t, S, I, R, D\n",
    "\n",
    "#parametres\n",
    "beta = 0.5\n",
    "gamma = 0.15\n",
    "mu = 0.015\n",
    "S0, I0, R0, D0 = 0.99, 0.01, 0, 0\n",
    "step = 0.01\n",
    "days = 100\n"
   ]
  }
 ],
 "metadata": {
  "kernelspec": {
   "display_name": "Python 3",
   "language": "python",
   "name": "python3"
  },
  "language_info": {
   "codemirror_mode": {
    "name": "ipython",
    "version": 3
   },
   "file_extension": ".py",
   "mimetype": "text/x-python",
   "name": "python",
   "nbconvert_exporter": "python",
   "pygments_lexer": "ipython3",
   "version": "3.9.6"
  }
 },
 "nbformat": 4,
 "nbformat_minor": 2
}
